{
 "cells": [
  {
   "cell_type": "code",
   "execution_count": 500,
   "id": "aec22759-f170-42cf-a888-1b301fea38c5",
   "metadata": {},
   "outputs": [],
   "source": [
    "from imblearn.over_sampling import SMOTE"
   ]
  },
  {
   "cell_type": "code",
   "execution_count": 519,
   "id": "3459c0f8-37da-40f4-a3ad-e097eedc15f0",
   "metadata": {},
   "outputs": [],
   "source": [
    "# Importing the required libraries\n",
    "\n",
    "import pandas as pd\n",
    "import numpy as np\n",
    "import matplotlib.pyplot as plt\n",
    "import seaborn as sns\n",
    "from sklearn.preprocessing import StandardScaler\n",
    "from sklearn.neighbors import KNeighborsRegressor\n",
    "from sklearn.linear_model import LinearRegression\n",
    "from sklearn.model_selection import train_test_split, cross_val_score, KFold\n",
    "from sklearn import metrics\n",
    "from sklearn.metrics import mean_squared_error, r2_score, mean_absolute_error\n",
    "%matplotlib inline \n",
    "\n",
    "# To ignore warnings\n",
    "import warnings\n",
    "warnings.filterwarnings(\"ignore\")\n",
    "\n",
    "# Load the dataset\n",
    "df = pd.read_csv(\"Housing.csv\")"
   ]
  },
  {
   "cell_type": "code",
   "execution_count": 520,
   "id": "c3fee530-8bc1-4081-9583-fae90357244c",
   "metadata": {},
   "outputs": [
    {
     "data": {
      "text/html": [
       "<div>\n",
       "<style scoped>\n",
       "    .dataframe tbody tr th:only-of-type {\n",
       "        vertical-align: middle;\n",
       "    }\n",
       "\n",
       "    .dataframe tbody tr th {\n",
       "        vertical-align: top;\n",
       "    }\n",
       "\n",
       "    .dataframe thead th {\n",
       "        text-align: right;\n",
       "    }\n",
       "</style>\n",
       "<table border=\"1\" class=\"dataframe\">\n",
       "  <thead>\n",
       "    <tr style=\"text-align: right;\">\n",
       "      <th></th>\n",
       "      <th>price</th>\n",
       "      <th>area</th>\n",
       "      <th>bedrooms</th>\n",
       "      <th>bathrooms</th>\n",
       "      <th>stories</th>\n",
       "      <th>mainroad</th>\n",
       "      <th>guestroom</th>\n",
       "      <th>basement</th>\n",
       "      <th>hotwaterheating</th>\n",
       "      <th>airconditioning</th>\n",
       "      <th>parking</th>\n",
       "      <th>prefarea</th>\n",
       "      <th>furnishingstatus</th>\n",
       "    </tr>\n",
       "  </thead>\n",
       "  <tbody>\n",
       "    <tr>\n",
       "      <th>0</th>\n",
       "      <td>13300000</td>\n",
       "      <td>7420</td>\n",
       "      <td>4</td>\n",
       "      <td>2</td>\n",
       "      <td>3</td>\n",
       "      <td>yes</td>\n",
       "      <td>no</td>\n",
       "      <td>no</td>\n",
       "      <td>no</td>\n",
       "      <td>yes</td>\n",
       "      <td>2</td>\n",
       "      <td>yes</td>\n",
       "      <td>furnished</td>\n",
       "    </tr>\n",
       "    <tr>\n",
       "      <th>1</th>\n",
       "      <td>12250000</td>\n",
       "      <td>8960</td>\n",
       "      <td>4</td>\n",
       "      <td>4</td>\n",
       "      <td>4</td>\n",
       "      <td>yes</td>\n",
       "      <td>no</td>\n",
       "      <td>no</td>\n",
       "      <td>no</td>\n",
       "      <td>yes</td>\n",
       "      <td>3</td>\n",
       "      <td>no</td>\n",
       "      <td>furnished</td>\n",
       "    </tr>\n",
       "    <tr>\n",
       "      <th>2</th>\n",
       "      <td>12250000</td>\n",
       "      <td>9960</td>\n",
       "      <td>3</td>\n",
       "      <td>2</td>\n",
       "      <td>2</td>\n",
       "      <td>yes</td>\n",
       "      <td>no</td>\n",
       "      <td>yes</td>\n",
       "      <td>no</td>\n",
       "      <td>no</td>\n",
       "      <td>2</td>\n",
       "      <td>yes</td>\n",
       "      <td>semi-furnished</td>\n",
       "    </tr>\n",
       "    <tr>\n",
       "      <th>3</th>\n",
       "      <td>12215000</td>\n",
       "      <td>7500</td>\n",
       "      <td>4</td>\n",
       "      <td>2</td>\n",
       "      <td>2</td>\n",
       "      <td>yes</td>\n",
       "      <td>no</td>\n",
       "      <td>yes</td>\n",
       "      <td>no</td>\n",
       "      <td>yes</td>\n",
       "      <td>3</td>\n",
       "      <td>yes</td>\n",
       "      <td>furnished</td>\n",
       "    </tr>\n",
       "    <tr>\n",
       "      <th>4</th>\n",
       "      <td>11410000</td>\n",
       "      <td>7420</td>\n",
       "      <td>4</td>\n",
       "      <td>1</td>\n",
       "      <td>2</td>\n",
       "      <td>yes</td>\n",
       "      <td>yes</td>\n",
       "      <td>yes</td>\n",
       "      <td>no</td>\n",
       "      <td>yes</td>\n",
       "      <td>2</td>\n",
       "      <td>no</td>\n",
       "      <td>furnished</td>\n",
       "    </tr>\n",
       "  </tbody>\n",
       "</table>\n",
       "</div>"
      ],
      "text/plain": [
       "      price  area  bedrooms  ...  parking  prefarea furnishingstatus\n",
       "0  13300000  7420         4  ...        2       yes        furnished\n",
       "1  12250000  8960         4  ...        3        no        furnished\n",
       "2  12250000  9960         3  ...        2       yes   semi-furnished\n",
       "3  12215000  7500         4  ...        3       yes        furnished\n",
       "4  11410000  7420         4  ...        2        no        furnished\n",
       "\n",
       "[5 rows x 13 columns]"
      ]
     },
     "execution_count": 520,
     "metadata": {},
     "output_type": "execute_result"
    }
   ],
   "source": [
    "df.head()"
   ]
  },
  {
   "cell_type": "code",
   "execution_count": 521,
   "id": "2f0975db-9d73-4130-814a-590cd3aa65b0",
   "metadata": {},
   "outputs": [
    {
     "name": "stdout",
     "output_type": "stream",
     "text": [
      "<class 'pandas.core.frame.DataFrame'>\n",
      "RangeIndex: 545 entries, 0 to 544\n",
      "Data columns (total 13 columns):\n",
      " #   Column            Non-Null Count  Dtype \n",
      "---  ------            --------------  ----- \n",
      " 0   price             545 non-null    int64 \n",
      " 1   area              545 non-null    int64 \n",
      " 2   bedrooms          545 non-null    int64 \n",
      " 3   bathrooms         545 non-null    int64 \n",
      " 4   stories           545 non-null    int64 \n",
      " 5   mainroad          545 non-null    object\n",
      " 6   guestroom         545 non-null    object\n",
      " 7   basement          545 non-null    object\n",
      " 8   hotwaterheating   545 non-null    object\n",
      " 9   airconditioning   545 non-null    object\n",
      " 10  parking           545 non-null    int64 \n",
      " 11  prefarea          545 non-null    object\n",
      " 12  furnishingstatus  545 non-null    object\n",
      "dtypes: int64(6), object(7)\n",
      "memory usage: 55.5+ KB\n"
     ]
    }
   ],
   "source": [
    "# Check the data types of each column and tells you how many rows and columns. There are ints and categorical values only\n",
    "df.info()"
   ]
  },
  {
   "cell_type": "code",
   "execution_count": 522,
   "id": "f9c79083-1646-4dc8-8d53-3213ecb258a3",
   "metadata": {},
   "outputs": [
    {
     "data": {
      "text/plain": [
       "Series([], dtype: int64)"
      ]
     },
     "execution_count": 522,
     "metadata": {},
     "output_type": "execute_result"
    }
   ],
   "source": [
    "#print out the columns with missing values in descending order. we can see there are none\n",
    "missing_values = df.isnull().sum()\n",
    "highest_counts = missing_values.sort_values(ascending=False)\n",
    "highest_counts[highest_counts>0]"
   ]
  },
  {
   "cell_type": "markdown",
   "id": "a80489a1-0ebb-4062-8f22-93dcee776e8a",
   "metadata": {},
   "source": [
    "Use one-Hot encoding to convert the categorical values into numerical"
   ]
  },
  {
   "cell_type": "code",
   "execution_count": 523,
   "id": "281590cd-e7f4-431d-a519-68e8f4787004",
   "metadata": {},
   "outputs": [
    {
     "name": "stdout",
     "output_type": "stream",
     "text": [
      "<class 'pandas.core.frame.DataFrame'>\n",
      "RangeIndex: 545 entries, 0 to 544\n",
      "Data columns (total 7 columns):\n",
      " #   Column            Non-Null Count  Dtype \n",
      "---  ------            --------------  ----- \n",
      " 0   mainroad          545 non-null    object\n",
      " 1   guestroom         545 non-null    object\n",
      " 2   basement          545 non-null    object\n",
      " 3   hotwaterheating   545 non-null    object\n",
      " 4   airconditioning   545 non-null    object\n",
      " 5   prefarea          545 non-null    object\n",
      " 6   furnishingstatus  545 non-null    object\n",
      "dtypes: object(7)\n",
      "memory usage: 29.9+ KB\n"
     ]
    }
   ],
   "source": [
    "#creating dataset with categorical value\n",
    "string = df.select_dtypes(object)\n",
    "string.info()"
   ]
  },
  {
   "cell_type": "code",
   "execution_count": 524,
   "id": "5c5ec2c1-65eb-44d9-aa5f-d4a56a80bfb7",
   "metadata": {},
   "outputs": [],
   "source": [
    "# Use one-hot encoding to convert furnishingstatus into 3 binary columns\n",
    "df=pd.get_dummies(df, columns=['furnishingstatus'], drop_first=False, dtype=int)"
   ]
  },
  {
   "cell_type": "code",
   "execution_count": 525,
   "id": "0b60718d-d66e-4edc-983e-09e40fbab4a3",
   "metadata": {},
   "outputs": [],
   "source": [
    "# Use one-hot encoding to convert the remaining boolean columns into one binary column each\n",
    "df=pd.get_dummies(df, columns=['mainroad', 'guestroom', 'basement', 'hotwaterheating', 'airconditioning', 'prefarea' ], drop_first=True, dtype=int)"
   ]
  },
  {
   "cell_type": "code",
   "execution_count": 526,
   "id": "e79b8a81-0ac3-4f30-bbe2-25eaf5437f71",
   "metadata": {},
   "outputs": [
    {
     "name": "stdout",
     "output_type": "stream",
     "text": [
      "<class 'pandas.core.frame.DataFrame'>\n",
      "RangeIndex: 545 entries, 0 to 544\n",
      "Data columns (total 15 columns):\n",
      " #   Column                           Non-Null Count  Dtype\n",
      "---  ------                           --------------  -----\n",
      " 0   price                            545 non-null    int64\n",
      " 1   area                             545 non-null    int64\n",
      " 2   bedrooms                         545 non-null    int64\n",
      " 3   bathrooms                        545 non-null    int64\n",
      " 4   stories                          545 non-null    int64\n",
      " 5   parking                          545 non-null    int64\n",
      " 6   furnishingstatus_furnished       545 non-null    int32\n",
      " 7   furnishingstatus_semi-furnished  545 non-null    int32\n",
      " 8   furnishingstatus_unfurnished     545 non-null    int32\n",
      " 9   mainroad_yes                     545 non-null    int32\n",
      " 10  guestroom_yes                    545 non-null    int32\n",
      " 11  basement_yes                     545 non-null    int32\n",
      " 12  hotwaterheating_yes              545 non-null    int32\n",
      " 13  airconditioning_yes              545 non-null    int32\n",
      " 14  prefarea_yes                     545 non-null    int32\n",
      "dtypes: int32(9), int64(6)\n",
      "memory usage: 44.8 KB\n"
     ]
    }
   ],
   "source": [
    "df.info()"
   ]
  },
  {
   "cell_type": "code",
   "execution_count": 527,
   "id": "0efa2bc3-a502-4641-875b-45d05c02825a",
   "metadata": {},
   "outputs": [],
   "source": [
    "df.to_csv('df.csv', index=False) # output to df.csv to help me analyse"
   ]
  },
  {
   "cell_type": "code",
   "execution_count": 528,
   "id": "2048936c-6180-4bd4-a729-27eaadfe3f85",
   "metadata": {},
   "outputs": [
    {
     "data": {
      "image/png": "[encoded data removed]",
      "text/plain": [
       "<Figure size 1200x800 with 2 Axes>"
      ]
     },
     "metadata": {},
     "output_type": "display_data"
    }
   ],
   "source": [
    "# Calculate correlation matrix\n",
    "correlation_matrix = df.corr()\n",
    "\n",
    "# Plot heatmap\n",
    "plt.figure(figsize=(12, 8))\n",
    "sns.heatmap(correlation_matrix, annot=True, cmap='coolwarm', fmt=\".2f\")\n",
    "plt.title(\"Correlation Matrix Heatmap\")\n",
    "plt.show()"
   ]
  },
  {
   "cell_type": "markdown",
   "id": "b266cac7-88d7-4d65-a55d-fe6fe56ba7dc",
   "metadata": {},
   "source": [
    "The heatmap shows a decent correlation between the size of the property and price as well as the number of bathrooms (the more the higher the price), the presence of airconditioning and the number of stories there are (again the more stories, the higher the price). There seems to be a link between the price and if its unfurnished meaning it will be worth less. Variables we can definitely ignore as they make little to know difference would be if it's semi-furnished and if there is hot-water available."
   ]
  },
  {
   "cell_type": "code",
   "execution_count": 529,
   "id": "9a701fe0-2228-4b60-b5d4-2c1463035080",
   "metadata": {},
   "outputs": [],
   "source": [
    "#resetting the index of df\n",
    "df.reset_index(drop=True,inplace=True)"
   ]
  },
  {
   "cell_type": "code",
   "execution_count": 530,
   "id": "ba89e8ca-6291-40dd-86b3-2a0fcc21f0f9",
   "metadata": {},
   "outputs": [],
   "source": [
    "# Separate features (X) and target variable (y)\n",
    "X = df.drop(columns=['price'])\n",
    "y = df['price']"
   ]
  },
  {
   "cell_type": "code",
   "execution_count": 531,
   "id": "2039017d-46fb-4a0c-9fec-cb3d5ca8057e",
   "metadata": {},
   "outputs": [
    {
     "name": "stdout",
     "output_type": "stream",
     "text": [
      "\n",
      "Training Split: 0.2\n",
      "Mean R^2 Score (K-Fold CV): -0.270710964554529\n",
      "Mean Squared Error: 1730489137956.3538\n",
      "r2 Score: 0.50340442539261\n",
      "Mean Absolute Error: 922200.5504587156\n",
      "\n",
      "Training Split: 0.25\n",
      "Mean R^2 Score (K-Fold CV): -0.2440272572312087\n",
      "Mean Squared Error: 1637075242646.823\n",
      "r2 Score: 0.5361764954741157\n",
      "Mean Absolute Error: 916319.739201304\n",
      "\n",
      "Training Split: 0.3\n",
      "Mean R^2 Score (K-Fold CV): 0.030057855808910367\n",
      "Mean Squared Error: 1608011671972.29\n",
      "r2 Score: 0.5427218891629944\n",
      "Mean Absolute Error: 902330.703897615\n"
     ]
    }
   ],
   "source": [
    "# Initialize the kNN regressor\n",
    "knn_regressor = KNeighborsRegressor(n_neighbors=9)\n",
    "\n",
    "# Define the training split percentages\n",
    "training_splits = [0.2, 0.25, 0.3]\n",
    "\n",
    "for split in training_splits:\n",
    "    print(f\"\\nTraining Split: {split}\")\n",
    "\n",
    "    # Split the dataset into training and testing sets\n",
    "    X_train, X_test, y_train, y_test = train_test_split(X, y, test_size=1 - split, random_state=42)\n",
    "\n",
    "    # Standardize the features\n",
    "    scaler = StandardScaler()\n",
    "    X_train_scaled = scaler.fit_transform(X_train)\n",
    "    X_test_scaled = scaler.transform(X_test)\n",
    "\n",
    "    # Initialize K-Fold Cross-Validation\n",
    "    kf = KFold(n_splits=6, shuffle=True, random_state=42)\n",
    "\n",
    "    # Perform Stratified K-Fold Cross-Validation and calculate R^2 scores\n",
    "    r2_scores = []\n",
    "    for train_index, val_index in kf.split(X_train_scaled, y_train):\n",
    "        X_train_cv, X_val_cv = X.iloc[train_index], X.iloc[val_index]\n",
    "        y_train_cv, y_val_cv = y.iloc[train_index], y.iloc[val_index]\n",
    "        knn_regressor.fit(X_train_cv, y_train_cv)\n",
    "        y_pred_cv = knn_regressor.predict(X_val_cv)\n",
    "        r2_cv = r2_score(y_val_cv, y_pred_cv)\n",
    "        r2_scores.append(r2_cv)\n",
    "\n",
    "    # Calculate the mean R^2 score\n",
    "    mean_r2_score = sum(r2_scores) / len(r2_scores)\n",
    "\n",
    "    print(\"Mean R^2 Score (K-Fold CV):\", mean_r2_score)\n",
    "\n",
    "    # Train the model\n",
    "    knn_regressor.fit(X_train_scaled, y_train)\n",
    "\n",
    "    # Predict on the test set\n",
    "    y_pred = knn_regressor.predict(X_test_scaled)\n",
    "\n",
    "    # Calculate Mean Squared Error\n",
    "    mse = mean_squared_error(y_test, y_pred)\n",
    "    r2 = r2_score(y_test, y_pred)\n",
    "    mae = mean_absolute_error(y_test, y_pred)\n",
    "\n",
    "    print(\"Mean Squared Error:\", mse)\n",
    "    print(f\"r2 Score: {r2}\")\n",
    "    print(\"Mean Absolute Error:\", mae)"
   ]
  },
  {
   "cell_type": "markdown",
   "id": "d6c4ad9c-d765-4253-86b8-09346886b60f",
   "metadata": {},
   "source": [
    "There is an issue with the code for Mean R^2 Score (K-Fold CV) here but I can't figure it out and have run out of time"
   ]
  },
  {
   "cell_type": "code",
   "execution_count": 532,
   "id": "c172f5e4-95a7-417d-85a3-a238b0db2364",
   "metadata": {},
   "outputs": [
    {
     "name": "stdout",
     "output_type": "stream",
     "text": [
      "\n",
      "Training Split: 0.2\n",
      "Mean Squared Error (across 3-fold CV): 1510168852552.1433\n",
      "Mean Absolute Error (across 3-fold CV): 923005.022069452\n",
      "R2 Score (across 3-fold CV): 0.5374323957041472\n",
      "\n",
      "Training Split: 0.25\n",
      "Mean Squared Error (across 3-fold CV): 1514620138825.7236\n",
      "Mean Absolute Error (across 3-fold CV): 921041.349849057\n",
      "R2 Score (across 3-fold CV): 0.5341747424313182\n",
      "\n",
      "Training Split: 0.3\n",
      "Mean Squared Error (across 3-fold CV): 1545814930832.6084\n",
      "Mean Absolute Error (across 3-fold CV): 893762.0447457604\n",
      "R2 Score (across 3-fold CV): 0.5391229608280012\n"
     ]
    }
   ],
   "source": [
    "df2 = pd.read_csv(\"Housing.csv\")\n",
    "\n",
    "df2=pd.get_dummies(df2, columns=['furnishingstatus'], drop_first=False, dtype=int)\n",
    "df2=pd.get_dummies(df2, columns=['mainroad', 'guestroom', 'basement', 'hotwaterheating', 'airconditioning', 'prefarea' ], drop_first=True, dtype=int)\n",
    "\n",
    "X = df2.drop(columns=['price'])\n",
    "y = df2['price']\n",
    "\n",
    "# Initialize the Linear Regression model\n",
    "linear_regressor = LinearRegression()\n",
    "\n",
    "# Define the training split percentages\n",
    "training_splits = [0.2, 0.25, 0.3]\n",
    "\n",
    "# Loop over each training split percentage\n",
    "for split in training_splits:\n",
    "    print(f\"\\nTraining Split: {split}\")\n",
    "\n",
    "    # Split the dataset into training and testing sets\n",
    "    X_train, X_test, y_train, y_test = train_test_split(X, y, test_size=1 - split, random_state=42)\n",
    "    # Standardize the features\n",
    "    scaler = StandardScaler()\n",
    "    X_train_scaled = scaler.fit_transform(X_train)\n",
    "    X_test_scaled = scaler.transform(X_test)\n",
    "                                                        \n",
    "    # Perform k-fold cross-validation (e.g., with k=3)\n",
    "    k = 3\n",
    "    mse_scores = cross_val_score(linear_regressor, X_train, y_train, cv=k, scoring='neg_mean_squared_error')\n",
    "    mae_scores = cross_val_score(linear_regressor, X_train, y_train, cv=k, scoring='neg_mean_absolute_error')\n",
    "    r2_scores = cross_val_score(linear_regressor, X_train, y_train, cv=k, scoring='r2')\n",
    "\n",
    "    # Convert the negative MSE and MAE scores to positive values\n",
    "    mse_scores = -mse_scores\n",
    "    mae_scores = -mae_scores\n",
    "\n",
    "    # Calculate the mean of each metric across all folds\n",
    "    mean_mse = np.mean(mse_scores)\n",
    "    mean_mae = np.mean(mae_scores)\n",
    "    mean_r2 = np.mean(r2_scores)\n",
    "\n",
    "    # Calculate the mean R^2 score\n",
    "    mean_r2_score = scores.mean()\n",
    "\n",
    "\n",
    "    print(f\"Mean Squared Error (across {k}-fold CV): {mean_mse}\")\n",
    "    print(f\"Mean Absolute Error (across {k}-fold CV): {mean_mae}\")\n",
    "    print(f\"R2 Score (across {k}-fold CV): {mean_r2}\")"
   ]
  },
  {
   "cell_type": "code",
   "execution_count": 533,
   "id": "39c3cdf1-457d-4b79-9fa8-1342d3eef97b",
   "metadata": {},
   "outputs": [
    {
     "name": "stdout",
     "output_type": "stream",
     "text": [
      "Linear Regression - Mean Squared Error: 1523019469501.29\n",
      "Linear Regression - R^2 Score: 0.6463350878895879\n",
      "Linear Regression - Mean Absolute Error: 920392.9397607954\n",
      "\n",
      "k-Nearest Neighbors - Mean Squared Error: 1600300680470.572\n",
      "k-Nearest Neighbors - R^2 Score: 0.6283893864507304\n",
      "k-Nearest Neighbors - Mean Absolute Error: 896798.4386174417\n",
      "\n",
      "Best parameters for Linear Regression: {'regressor__fit_intercept': True}\n",
      "Best parameters for k-Nearest Neighbors: {'regressor__n_neighbors': 9, 'regressor__weights': 'distance'}\n"
     ]
    }
   ],
   "source": [
    "from sklearn.model_selection import train_test_split, GridSearchCV\n",
    "from sklearn.preprocessing import StandardScaler\n",
    "from sklearn.linear_model import LinearRegression\n",
    "from sklearn.neighbors import KNeighborsRegressor\n",
    "from sklearn.pipeline import Pipeline\n",
    "from sklearn.metrics import mean_squared_error, r2_score, mean_absolute_error\n",
    "\n",
    "df3 = pd.read_csv(\"Housing.csv\")\n",
    "\n",
    "df3=pd.get_dummies(df3, columns=['furnishingstatus'], drop_first=False, dtype=int)\n",
    "df3=pd.get_dummies(df3, columns=['mainroad', 'guestroom', 'basement', 'hotwaterheating', 'airconditioning', 'prefarea' ], drop_first=True, dtype=int)\n",
    "\n",
    "X = df3.drop(columns=['price'])\n",
    "y = df3['price']\n",
    "\n",
    "\n",
    "# Split the data into training and testing sets\n",
    "X_train, X_test, y_train, y_test = train_test_split(X, y, test_size=0.3, random_state=42)\n",
    "\n",
    "linear_pipeline = Pipeline([\n",
    "    ('scaler', StandardScaler()),\n",
    "    ('regressor', LinearRegression())\n",
    "])\n",
    "\n",
    "knn_pipeline = Pipeline([\n",
    "    ('scaler', StandardScaler()),\n",
    "    ('regressor', KNeighborsRegressor())\n",
    "])\n",
    "\n",
    "# Define parameter grids for hyperparameter tuning\n",
    "linear_param_grid = {\n",
    "    'regressor__fit_intercept': [True, False]\n",
    "}\n",
    "\n",
    "knn_param_grid = {\n",
    "    'regressor__n_neighbors': [3, 5, 7, 9, 11],\n",
    "    'regressor__weights': ['uniform', 'distance']\n",
    "}\n",
    "\n",
    "# Perform GridSearchCV for Linear Regression\n",
    "linear_grid_search = GridSearchCV(linear_pipeline, param_grid=linear_param_grid, cv=5, scoring='neg_mean_squared_error')\n",
    "linear_grid_search.fit(X_train, y_train)\n",
    "\n",
    "# Perform GridSearchCV for kNN\n",
    "knn_grid_search = GridSearchCV(knn_pipeline, param_grid=knn_param_grid, cv=5, scoring='neg_mean_squared_error')\n",
    "knn_grid_search.fit(X_train, y_train)\n",
    "\n",
    "# Evaluate best models on the test set\n",
    "linear_best_model = linear_grid_search.best_estimator_\n",
    "knn_best_model = knn_grid_search.best_estimator_\n",
    "\n",
    "linear_y_pred = linear_best_model.predict(X_test)\n",
    "knn_y_pred = knn_best_model.predict(X_test)\n",
    "\n",
    "linear_mse = mean_squared_error(y_test, linear_y_pred)\n",
    "linear_r2 = r2_score(y_test, linear_y_pred)\n",
    "linear_mae = mean_absolute_error(y_test, linear_y_pred)\n",
    "\n",
    "knn_mse = mean_squared_error(y_test, knn_y_pred)\n",
    "knn_r2 = r2_score(y_test, knn_y_pred)\n",
    "knn_mae = mean_absolute_error(y_test, knn_y_pred)\n",
    "\n",
    "print(\"Linear Regression - Mean Squared Error:\", linear_mse)\n",
    "print(\"Linear Regression - R^2 Score:\", linear_r2)\n",
    "print(\"Linear Regression - Mean Absolute Error:\", linear_mae)\n",
    "\n",
    "print(\"\\nk-Nearest Neighbors - Mean Squared Error:\", knn_mse)\n",
    "print(\"k-Nearest Neighbors - R^2 Score:\", knn_r2)\n",
    "print(\"k-Nearest Neighbors - Mean Absolute Error:\", knn_mae)\n",
    "\n",
    "print(\"\\nBest parameters for Linear Regression:\", linear_grid_search.best_params_)\n",
    "print(\"Best parameters for k-Nearest Neighbors:\", knn_grid_search.best_params_)\n"
   ]
  },
  {
   "cell_type": "markdown",
   "id": "c1df4644-d831-4886-9b52-890025ea7410",
   "metadata": {},
   "source": [
    "As you can see, Linear Regression performs better than kNN when looking at the R2 score. After running the GridSearchCV on both the Linear Regression and kNN models, it can be seen that the values have much improved by using the recommended best parameters."
   ]
  },
  {
   "cell_type": "code",
   "execution_count": 536,
   "id": "ec8dbabe-41df-4d55-b172-bc1b30e48915",
   "metadata": {},
   "outputs": [
    {
     "name": "stdout",
     "output_type": "stream",
     "text": [
      "kNN Predicted price: [6988333.33333333]\n",
      "Linear Regression Predicted price: [7088765.49631078]\n"
     ]
    }
   ],
   "source": [
    "# Use the algorithm to predict prices\n",
    "linear_regressor.fit(X_train, y_train)\n",
    "data_to_predict = [[5000, 2, 2, 3, 1, 0, 0, 0, 1, 2, 1, 0, 0, 1]]\n",
    "predictionsknn=knn_regressor.predict(data_to_predict)\n",
    "predictionslin=linear_regressor.predict(data_to_predict)\n",
    "# Print the predictions\n",
    "print(\"kNN Predicted price:\", predictionsknn)\n",
    "print(\"Linear Regression Predicted price:\", predictionslin)"
   ]
  }
 ],
 "metadata": {
  "kernelspec": {
   "display_name": "Python 3 (ipykernel)",
   "language": "python",
   "name": "python3"
  },
  "language_info": {
   "codemirror_mode": {
    "name": "ipython",
    "version": 3
   },
   "file_extension": ".py",
   "mimetype": "text/x-python",
   "name": "python",
   "nbconvert_exporter": "python",
   "pygments_lexer": "ipython3",
   "version": "3.11.7"
  }
 },
 "nbformat": 4,
 "nbformat_minor": 5
}
